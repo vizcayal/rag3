{
 "cells": [
  {
   "cell_type": "code",
   "execution_count": null,
   "metadata": {},
   "outputs": [],
   "source": [
    "\n",
    "from langchain.llms import OpenAI\n",
    "import pandas as pd\n",
    "\n",
    "from langchain_experimental.agents import create_pandas_dataframe_agent\n",
    "from langchain_community.document_loaders import CSVLoader\n"
   ]
  },
  {
   "cell_type": "code",
   "execution_count": null,
   "metadata": {},
   "outputs": [],
   "source": [
    "dataset = pd.read_csv(\"data/caiso_data.csv\")\n",
    "llm = OpenAI(temperature=0)\n",
    "powertalk = create_pandas_dataframe_agent(llm, df = dataset,verbose=True,allow_dangerous_code=True )"
   ]
  },
  {
   "cell_type": "code",
   "execution_count": null,
   "metadata": {},
   "outputs": [],
   "source": [
    "powertalk.run(\"what variables are in the dataset?\")"
   ]
  }
 ],
 "metadata": {
  "kernelspec": {
   "display_name": "power_talk_env",
   "language": "python",
   "name": "python3"
  },
  "language_info": {
   "codemirror_mode": {
    "name": "ipython",
    "version": 3
   },
   "file_extension": ".py",
   "mimetype": "text/x-python",
   "name": "python",
   "nbconvert_exporter": "python",
   "pygments_lexer": "ipython3",
   "version": "3.11.9"
  }
 },
 "nbformat": 4,
 "nbformat_minor": 2
}
